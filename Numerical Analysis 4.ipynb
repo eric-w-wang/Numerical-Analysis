{
 "cells": [
  {
   "cell_type": "code",
   "execution_count": 7,
   "metadata": {},
   "outputs": [],
   "source": [
    "# import required packages\n",
    "import numpy as np\n",
    "# load fft package\n",
    "from numpy import fft"
   ]
  },
  {
   "cell_type": "markdown",
   "metadata": {},
   "source": [
    "# Problem 4"
   ]
  },
  {
   "cell_type": "code",
   "execution_count": 8,
   "metadata": {},
   "outputs": [
    {
     "name": "stdout",
     "output_type": "stream",
     "text": [
      "a_k = [ 3.1322     -1.27176117  0.          0.09656117 -0.046     ]\n",
      "b_k = [ 0.          1.27176117 -0.5891      0.09656117]\n"
     ]
    }
   ],
   "source": [
    "# define a variable f\n",
    "# set it to be an periodic array\n",
    "f = np.array([0.3679, 1.0000, 2.7183, 4.1133, 2.7183, 1.0000, 0.3679, 0.2431])\n",
    "\n",
    "# define a variable x\n",
    "# set it to be the length of the periodic array f\n",
    "N = len(f)\n",
    "\n",
    "# use fft to compute the Fourier coefficients \n",
    "fc = fft.fft(f)\n",
    "\n",
    "# compute a_k for all k=0,1,...,N/2\n",
    "a = 1/N*(fc + fc.conj())\n",
    "a = np.real(a)[0:N//2+1]\n",
    "print('a_k =', a)\n",
    "\n",
    "# compute b_k for all k=0,1,...,N/2-1\n",
    "b = 1j/N*(fc - fc.conj())\n",
    "b = np.real(b)[0:N//2]\n",
    "print('b_k =', b)"
   ]
  },
  {
   "cell_type": "markdown",
   "metadata": {},
   "source": [
    "Hence,\n",
    "$$\n",
    "\\begin{aligned}\n",
    "P_{8}(x)=\\\\\n",
    "\\approx&1.5661-1.2718\\cos(x)+1.2718\\sin(x)-0.5891\\sin(2x)\\\\\n",
    "&+0.0966 \\cos(3x)+0.0966 \\sin(3x)-0.046\\cos(4x)\n",
    "\\end{aligned}\n",
    "$$\n"
   ]
  },
  {
   "cell_type": "markdown",
   "metadata": {},
   "source": [
    "# Problem 5"
   ]
  },
  {
   "cell_type": "code",
   "execution_count": 10,
   "metadata": {},
   "outputs": [
    {
     "name": "stdout",
     "output_type": "stream",
     "text": [
      "The actual error in the approximation f'(xj) - P'(xj) is\n",
      " [-4.25040794e-16  3.44909971e-03 -4.31791110e-03  2.72947135e-03\n",
      " -1.99533261e-17 -2.72947135e-03  4.31791110e-03 -3.44909971e-03]\n"
     ]
    }
   ],
   "source": [
    "N = 8\n",
    "\n",
    "# define variables x and f\n",
    "x = np.arange(N)*2*np.pi/N # use np.arange to return even-spaced values within the indicated interval\n",
    "f = np.exp(np.cos(x))# exp will calulate the exponential of items in the array x\n",
    "\n",
    "# # use fft to compute the Fourier coefficients \n",
    "fc = fft.fft(f)\n",
    "\n",
    "# define variables a and b \n",
    "a = np.real(1/N*(fc + fc.conj()))[0:N//2+1] # use np.real to return the real part\n",
    "b = np.real(1j/N*(fc - fc.conj()))[0:N//2] # use np.real to return the real part\n",
    "\n",
    "# compute P'8(xj)\n",
    "dP = np.zeros_like(f) # use np.zeros_like to return an array of zeros that has the same type as f\n",
    "for j, xj in enumerate(x): # implement a for loop with indicator variables j and xj\n",
    "    k = np.arange(1,N//2) # use np.arange to return even-spaced values within the indicated interval\n",
    "    dP[j] = sum(k*(-a[k]*np.sin(k*xj)+b[k]*np.cos(k*xj))) - 2*a[N//2]*np.sin(N/2*xj)\n",
    "    \n",
    "# computation for the actual error\n",
    "error = -np.exp(np.cos(x))*np.sin(x) - dP\n",
    "print(\"The actual error in the approximation f'(xj) - P'(xj) is\\n\", error)"
   ]
  },
  {
   "cell_type": "code",
   "execution_count": null,
   "metadata": {},
   "outputs": [],
   "source": []
  },
  {
   "cell_type": "code",
   "execution_count": null,
   "metadata": {},
   "outputs": [],
   "source": []
  }
 ],
 "metadata": {
  "kernelspec": {
   "display_name": "Python 3",
   "language": "python",
   "name": "python3"
  },
  "language_info": {
   "codemirror_mode": {
    "name": "ipython",
    "version": 3
   },
   "file_extension": ".py",
   "mimetype": "text/x-python",
   "name": "python",
   "nbconvert_exporter": "python",
   "pygments_lexer": "ipython3",
   "version": "3.7.3"
  }
 },
 "nbformat": 4,
 "nbformat_minor": 4
}
