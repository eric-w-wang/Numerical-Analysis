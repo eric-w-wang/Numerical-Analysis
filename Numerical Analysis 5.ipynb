{
 "cells": [
  {
   "cell_type": "code",
   "execution_count": 34,
   "metadata": {},
   "outputs": [],
   "source": [
    "# load in required packeages\n",
    "import numpy as np\n",
    "import matplotlib.pyplot as plt"
   ]
  },
  {
   "cell_type": "markdown",
   "metadata": {},
   "source": [
    "# Problem 4"
   ]
  },
  {
   "cell_type": "code",
   "execution_count": null,
   "metadata": {},
   "outputs": [],
   "source": [
    "From the Chebyshev Polynomial information in Problem 3"
   ]
  },
  {
   "cell_type": "code",
   "execution_count": 35,
   "metadata": {},
   "outputs": [
    {
     "data": {
      "image/png": "[encoded data removed]",
      "text/plain": [
       "<Figure size 432x288 with 6 Axes>"
      ]
     },
     "metadata": {
      "needs_background": "light"
     },
     "output_type": "display_data"
    }
   ],
   "source": [
    "# use np.linspace to return even spaced numbers within an interval\n",
    "t = np.linspace(0, np.pi)\n",
    "# use np.cos to return the corresponding cosine val.\n",
    "x = np.cos(t)\n",
    "# assign 6 to variable N (0,1,2,3,4,5)\n",
    "d = 6 \n",
    "\n",
    "# creating a figure with a set of subplots\n",
    "fig, axs = plt.subplots(2, d//2, sharex=True, sharey=True)\n",
    "\n",
    "# use a for loop to iterate with identity variable n \n",
    "for n in range(d):\n",
    "    # Assign Chebyshev polynomial to the variable Tn\n",
    "    T_n = np.cos(n*t)\n",
    "    # monic Chebyshev polynomial\n",
    "    # use if else statement to set condition\n",
    "    if n == 0: # condition when n is 0\n",
    "        T_n_t = T_n\n",
    "    else:\n",
    "        T_n_t = T_n/(2**(n-1))\n",
    "    \n",
    "    # show the plotted result\n",
    "    pl = axs[n%2, n//2]\n",
    "    pl.plot(x, T_n_t)\n",
    "    # title for each subplot\n",
    "    pl.set_title(r'$\\tilde{T}_{%d}$'%n)\n",
    "    # implement grid on each subplot\n",
    "    pl.grid()\n",
    "\n",
    "# assign a title to the plots\n",
    "fig.suptitle('Plot for the monic Chebyshev polynomial')\n",
    "\n",
    "# output the created plot\n",
    "plt.show()"
   ]
  },
  {
   "cell_type": "markdown",
   "metadata": {},
   "source": [
    "# Problem 5"
   ]
  },
  {
   "cell_type": "markdown",
   "metadata": {},
   "source": [
    "- Use this approximation to fit the data in Table 2"
   ]
  },
  {
   "cell_type": "code",
   "execution_count": 39,
   "metadata": {},
   "outputs": [
    {
     "name": "stdout",
     "output_type": "stream",
     "text": [
      "a is equal to: 0.9641935483871015\n",
      "b is equal to: 2.017741935483871\n",
      "The approximation is : y = 0.964194x^2 + 2.01774x\n",
      "30\n",
      "100\n",
      "354\n",
      "230.7\n",
      "810.7\n"
     ]
    }
   ],
   "source": [
    "# assign a list of array to x\n",
    "x = np.array([1, 2, 3, 4])\n",
    "# assign a list of array to y\n",
    "y = np.array([3.1, 9.8, 21.2, 36.1])\n",
    "# sum of all x to the second power\n",
    "sx_2 = sum(x**2)\n",
    "# sum of all x to the third power\n",
    "sx_3 = sum(x**3)\n",
    "# sum of all x to the fourth power\n",
    "sx_4 = sum(x**4)\n",
    "# sum of all x times y\n",
    "sx_y = sum(x*y)\n",
    "# sum of all x to the second power times y\n",
    "sx_2_y = sum(x**2*y)\n",
    "\n",
    "# apply formula\n",
    "a = (sx_3*sx_2_y-sx_4*sx_y)/(sx_3**2-sx_2*sx_4)\n",
    "b = (sx_3*sx_y-sx_2*sx_2_y)/(sx_3**2-sx_2*sx_4)\n",
    "\n",
    "print('a is equal to:', a)\n",
    "print('b is equal to:', b)\n",
    "print('The approximation is : y = %gx^2 + %gx'%(a, b))\n",
    "print(sx_2)\n",
    "print(sx_3)\n",
    "print(sx_4)\n",
    "print(sx_y)\n",
    "print(sx_2_y)"
   ]
  },
  {
   "cell_type": "markdown",
   "metadata": {},
   "source": [
    "- Find the error in the least squares approximaiton"
   ]
  },
  {
   "cell_type": "code",
   "execution_count": 37,
   "metadata": {},
   "outputs": [
    {
     "name": "stdout",
     "output_type": "stream",
     "text": [
      "The error in the least squares approximation is = 0.07716129032257978\n"
     ]
    }
   ],
   "source": [
    "# assign the values to variable Err (error)\n",
    "Err = sum((y - a*x - b*x**2)**2)\n",
    "print('The error in the least squares approximation is =', Err)"
   ]
  },
  {
   "cell_type": "code",
   "execution_count": null,
   "metadata": {},
   "outputs": [],
   "source": []
  }
 ],
 "metadata": {
  "kernelspec": {
   "display_name": "Python 3",
   "language": "python",
   "name": "python3"
  },
  "language_info": {
   "codemirror_mode": {
    "name": "ipython",
    "version": 3
   },
   "file_extension": ".py",
   "mimetype": "text/x-python",
   "name": "python",
   "nbconvert_exporter": "python",
   "pygments_lexer": "ipython3",
   "version": "3.7.3"
  }
 },
 "nbformat": 4,
 "nbformat_minor": 4
}
