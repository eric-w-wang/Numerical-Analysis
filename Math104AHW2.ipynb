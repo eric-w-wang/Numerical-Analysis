{
 "cells": [
  {
   "cell_type": "code",
   "execution_count": 19,
   "metadata": {},
   "outputs": [],
   "source": [
    "# load and import all the required packages\n",
    "import numpy as np\n",
    "import matplotlib.pyplot as plt"
   ]
  },
  {
   "cell_type": "markdown",
   "metadata": {},
   "source": [
    "# Eric Wang\n",
    "## Nov 4, 2020"
   ]
  },
  {
   "cell_type": "markdown",
   "metadata": {},
   "source": [
    "# HW2 Problem 3"
   ]
  },
  {
   "cell_type": "markdown",
   "metadata": {},
   "source": [
    "## (3a)"
   ]
  },
  {
   "cell_type": "markdown",
   "metadata": {},
   "source": [
    "Write a python code to evaluate the Lebesgue function\n",
    "$$\n",
    "L_n(x)=\\sum^{n}_{j=0}\\|\\prod_{k=0,k\\ne j}^{n}\\frac{x-x_k}{x_j-x_k}\\|\n",
    "$$\n"
   ]
  },
  {
   "cell_type": "code",
   "execution_count": 37,
   "metadata": {},
   "outputs": [],
   "source": [
    "def lebesguefn(x, xn):\n",
    "    # we define a function called lebesguefn\n",
    "    # with input value of x and xn\n",
    "        # x will be the x coordinate value\n",
    "        # xn will be the node\n",
    " \n",
    "    l = 0\n",
    "    # use for loop to run through the iteration\n",
    "    for i in range(len(xn)): # assign i as the indicator variable\n",
    "        # Assign the values to variable n\n",
    "            # the values are the return of the product of the elements in array\n",
    "        n = np.prod(x-xn[:i])*np.prod(x-xn[i+1:])\n",
    "        # Assign the values to variable d\n",
    "             # the values are the return of the product of the elements in array\n",
    "        d = np.prod(xn[i]-xn[:i])*np.prod(xn[i]-xn[i+1:])\n",
    "        l += np.abs(n/d)\n",
    "    return l\n",
    "    # return a value l, which is the value of lebesguq function at the x coordinate value"
   ]
  },
  {
   "cell_type": "markdown",
   "metadata": {},
   "source": [
    "## (3b)"
   ]
  },
  {
   "cell_type": "markdown",
   "metadata": {},
   "source": [
    "Consider the equidistributed points $x_j = −1 + j(2/n)$ for $j = 0,\\dots,n$. Write a computer code that uses (a) to evaluate and plot $L_n(x)$ (evaluate $L_n(x)$ at a large number of points $\\bar{x}_k$ to have a good plotting resolution) for $n = 4, 10, 20$. Estimate $\\Lambda_n$ for these three values of $n$."
   ]
  },
  {
   "cell_type": "code",
   "execution_count": 38,
   "metadata": {},
   "outputs": [
    {
     "name": "stdout",
     "output_type": "stream",
     "text": [
      "Lambda_n is equal to 2.20782, when n is equal 20\n",
      "Lambda_n is equal to 29.8981, when n is equal 20\n",
      "Lambda_n is equal to 10979.2, when n is equal 20\n"
     ]
    },
    {
     "data": {
      "image/png": "[encoded data removed]",
      "text/plain": [
       "<Figure size 864x144 with 3 Axes>"
      ]
     },
     "metadata": {
      "needs_background": "light"
     },
     "output_type": "display_data"
    }
   ],
   "source": [
    "ns = (4,10,20)  # test\n",
    "fig, ax = plt.subplots(1,len(ns),figsize=(12,2))  # figure\n",
    "\n",
    "# use for loop to run through the iteration\n",
    "for axis, z in zip(ax, ns): # assigning indicator variable\n",
    "    # multiply by the evenly spaced values within the interval that is returned\n",
    "    xn = -1 + (2/z)*np.arange(z+1)  \n",
    "    # xn will be the nodes\n",
    "    # multiply by the evenly spaced values within the interval that is returned\n",
    "    xk = -1 + (2/1000)*np.arange(1001)  \n",
    "    # xk will be the estimated value of the nodes\n",
    "    \n",
    "    # compute the lebesgue function\n",
    "    # Assign the values to variable Ln\n",
    "        # Ln will be the array consisted of zeros\n",
    "    Ln = np.zeros(len(xk))\n",
    "    for i in range(len(xk)): # i is the inidcator variable\n",
    "        Ln[i] = lebesguefn(xk[i], xn)\n",
    "    \n",
    "    # Plot a plot for Ln\n",
    "    axis.plot(xk, Ln)\n",
    "    axis.set_title(\"n=%d\"%n)\n",
    "    \n",
    "    # estimate the value of Lambda_n\n",
    "    # Assign the values of maximum Ln to variable Lambda_n a\n",
    "    Lambda_n = max(Ln)\n",
    "    # print the result\n",
    "    print(\"Lambda_n is equal to %g, when n is equal %d\"%(Lambda_n, n))\n",
    "\n",
    "# output the plot\n",
    "plt.show()"
   ]
  },
  {
   "cell_type": "markdown",
   "metadata": {},
   "source": [
    "# HW2 Problem 4"
   ]
  },
  {
   "cell_type": "code",
   "execution_count": 39,
   "metadata": {},
   "outputs": [],
   "source": [
    "def barycentricweigths(xn): \n",
    "    # define a function called barycentricweights with input xn: the node\n",
    "    # assigning the array of ones of the length of the input to weights\n",
    "    weights = np.ones(len(xn))   \n",
    "    # use nested for loop to run the iteration\n",
    "    for i in range(1, len(xn)): # i is the indicator variable\n",
    "        for j in range(i): # j is the indicator variable\n",
    "            weights[j] = weights[j]/(xn[j]-xn[i])\n",
    "        weights[i] = 1/np.prod(xn[i]-xn[:i]) # 1/ products of all elements in the array\n",
    "    \n",
    "    return weights # returns the barycentric weights as output\n",
    "\n",
    "def barycentric(x, xn, yn, weights):\n",
    "    #define a function called barycentric\n",
    "    #with input value:\n",
    "        # x = the x coordintae value\n",
    "        # xn = the nodes\n",
    "        # yn = nodes' value\n",
    "        # weights = the barycentric weight\n",
    "    # if else is used to distinguish the different condition\n",
    "    if np.any(x==xn): # test if x coordinate is equal to xn\n",
    "       return yn[x==xn]\n",
    "    else:\n",
    "        c = weights/(x-xn)\n",
    "        return sum(c*yn)/sum(c)\n",
    "    # This function returns a value of the interpolating polynomial at x as the output\n",
    "    \n",
    "    \n",
    "    \n"
   ]
  },
  {
   "cell_type": "markdown",
   "metadata": {},
   "source": [
    "Compare the results in problem 2 to test the implementation"
   ]
  },
  {
   "cell_type": "code",
   "execution_count": 40,
   "metadata": {},
   "outputs": [
    {
     "name": "stdout",
     "output_type": "stream",
     "text": [
      "1.3333333333333333 == 1.3333333333333333\n"
     ]
    }
   ],
   "source": [
    "xn = np.array([-2,0,1])  \n",
    "# xn will be the node, which is an array\n",
    "yn = np.array([0,1,-1])  \n",
    "# yn will be the nodes' value, which is an array\n",
    "\n",
    "weights = barycentricweigths(xn)  \n",
    "# we assign the function of barycentricweight to a variable called weights\n",
    "\n",
    "\n",
    "print(barycentric(-1, xn, yn, weights),'==',4/3) \n",
    "# print the result"
   ]
  },
  {
   "cell_type": "markdown",
   "metadata": {},
   "source": [
    "The resulting value shows that it is consistent with the resulting value from problem 2."
   ]
  },
  {
   "cell_type": "markdown",
   "metadata": {},
   "source": [
    "- \n",
    "\n",
    "Use code in (a) to find $P_5(2)$ as an approximation of $f(2)$."
   ]
  },
  {
   "cell_type": "code",
   "execution_count": 41,
   "metadata": {},
   "outputs": [
    {
     "name": "stdout",
     "output_type": "stream",
     "text": [
      "P_5(2) = -2.34383\n"
     ]
    }
   ],
   "source": [
    "xn = np.array([0,0.25,0.52,0.74,1.28,1.5])\n",
    "# xn will be the node, which is an array\n",
    "yn = np.array([0,0.7070,1,0.7071,-0.7074,-1])\n",
    "# yn will be the nodes' value, which is an array\n",
    "\n",
    "weights = barycentricweigths(xn) \n",
    "# we assign the function of barycentricweight to a variable called weights\n",
    "\n",
    "print('P_5(2) = %g'%(barycentric(2, xn, yn, weights)))\n",
    "# print the result"
   ]
  },
  {
   "cell_type": "code",
   "execution_count": null,
   "metadata": {},
   "outputs": [],
   "source": []
  }
 ],
 "metadata": {
  "kernelspec": {
   "display_name": "Python 3",
   "language": "python",
   "name": "python3"
  },
  "language_info": {
   "codemirror_mode": {
    "name": "ipython",
    "version": 3
   },
   "file_extension": ".py",
   "mimetype": "text/x-python",
   "name": "python",
   "nbconvert_exporter": "python",
   "pygments_lexer": "ipython3",
   "version": "3.7.3"
  }
 },
 "nbformat": 4,
 "nbformat_minor": 4
}
