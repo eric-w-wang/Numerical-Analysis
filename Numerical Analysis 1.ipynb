{
 "cells": [
  {
   "cell_type": "code",
   "execution_count": 44,
   "metadata": {},
   "outputs": [],
   "source": [
    "# load required packages\n",
    "\n",
    "import numpy as np"
   ]
  },
  {
   "cell_type": "markdown",
   "metadata": {},
   "source": [
    "# HW1 Problem 1"
   ]
  },
  {
   "cell_type": "code",
   "execution_count": 51,
   "metadata": {},
   "outputs": [],
   "source": [
    "# define a function for the Composite Trapezoidal Rule quadrature\n",
    "import math\n",
    "def trapezoidal(fn,a,b,h):\n",
    "    n = (b-a)/h\n",
    "    x =(fn(a)+fn(b))/2.0 # find first and last term\n",
    "    for i in range(1,int(n)):  \n",
    "        x += fn(a + i*h)  # f(x) from x1 to x(n-1)\n",
    "    \n",
    "    return h*x"
   ]
  },
  {
   "cell_type": "markdown",
   "metadata": {},
   "source": [
    "a. Find a value of $h$ such that $q(h)$ is approximately equal to $4$."
   ]
  },
  {
   "cell_type": "code",
   "execution_count": 52,
   "metadata": {},
   "outputs": [
    {
     "name": "stdout",
     "output_type": "stream",
     "text": [
      "q(h)=3.9999993159390277\n"
     ]
    }
   ],
   "source": [
    "# definite integral\n",
    "fn = lambda t: np.exp(-t**2)\n",
    "a = 0 \n",
    "b = np.sqrt(np.pi/2)\n",
    "\n",
    "h = np.sqrt(np.pi/2)/200\n",
    "# compute the value of by plugging in the h,h/2,h/4\n",
    "T_h = [trapezoidal(fn, a, b, h), trapezoidal(fn, a, b, h/2), trapezoidal(fn, a, b, h/4)]\n",
    "\n",
    "# find q(h)\n",
    "q = ((T_h[1]-T_h[0])/(T_h[2]-T_h[1]))\n",
    "print(\"q(h)=%s\"%(q))\n"
   ]
  },
  {
   "cell_type": "markdown",
   "metadata": {},
   "source": [
    "b. Get an approximation of the error for that particular value of $h$."
   ]
  },
  {
   "cell_type": "markdown",
   "metadata": {},
   "source": [
    "Error is:\n",
    "$$\n",
    "E=I[\\sin(x^2+1)]-T_{h}[\\sin(x^2+1)]\n",
    "$$\n",
    "Given in part 3:\n",
    "$$\n",
    "E=\\frac{4}{3}(T_{h/2}[\\sin(x^2+1)]-T_{h}[\\sin(x^2+1)])\n",
    "$$\n"
   ]
  },
  {
   "cell_type": "code",
   "execution_count": 53,
   "metadata": {},
   "outputs": [
    {
     "name": "stdout",
     "output_type": "stream",
     "text": [
      "The error approximation is: 1.7052195232144147e-06\n"
     ]
    }
   ],
   "source": [
    "# error approximation\n",
    "Ep = 4/3*(T_h[1]-T_h[0])\n",
    "print('The error approximation is:', Ep)"
   ]
  },
  {
   "cell_type": "markdown",
   "metadata": {},
   "source": [
    "c. Obtain the extrapolated, improved, approximation."
   ]
  },
  {
   "cell_type": "code",
   "execution_count": 60,
   "metadata": {},
   "outputs": [
    {
     "name": "stdout",
     "output_type": "stream",
     "text": [
      "The extrapolated, improved, approximation is: 0.8185907516534912\n"
     ]
    }
   ],
   "source": [
    "# given function\n",
    "S_h = T_h[0]+(4/3*(T_h[1]-T_h[0]))\n",
    "print('The extrapolated, improved, approximation is:',S_h)"
   ]
  },
  {
   "cell_type": "markdown",
   "metadata": {},
   "source": [
    "d. Explain."
   ]
  },
  {
   "cell_type": "markdown",
   "metadata": {},
   "source": [
    "$S_{h}[\\sin(x^2+1)]$ is more accurate and converges faster to $I[\\sin(x^2+1)]$ than $T_{h}[\\sin(x^2+1)]$ because working out the integral we find that $S_{h}[\\sin(x^2+1)]$ has a $3$rd order convergence trend, but $T_{h}[\\sin(x^2+1)]$ has $2$rd order. Hence, 3rd order is more accurate since it has higher order"
   ]
  },
  {
   "cell_type": "markdown",
   "metadata": {},
   "source": [
    "# HW1 Problem 2"
   ]
  },
  {
   "cell_type": "code",
   "execution_count": 58,
   "metadata": {},
   "outputs": [],
   "source": [
    "# Define a function for the Composite Simpson's Rule quadrature\n",
    "\n",
    "def simpsonsrule(fn,a,b,h):\n",
    "    sr = trapezoidal(fn,a,b,h)+(4/3*(trapezoidal(fn,a,b,h/2)-trapezoidal(fn,a,b,h)))\n",
    "    return sr"
   ]
  },
  {
   "cell_type": "markdown",
   "metadata": {},
   "source": [
    "- Test our code with $f(x)=\\frac{x}{1+x^2}$ in $[0,1]$ by computing the error $|I[f]-S_h[f]|$ for $h=1/10,1/20,1/40,1/80$."
   ]
  },
  {
   "cell_type": "markdown",
   "metadata": {},
   "source": [
    "The integral when integrated\n",
    "$$\n",
    "\\int^{1}_{0}\\frac{x}{1+x^2}dx=\\frac{1}{2}(\\ln(1+1^2)-\\ln(1+0^2))=\\frac{1}{2}\\ln{2}\n",
    "$$"
   ]
  },
  {
   "cell_type": "code",
   "execution_count": 59,
   "metadata": {},
   "outputs": [
    {
     "name": "stdout",
     "output_type": "stream",
     "text": [
      "The h is: [0.1    0.05   0.025  0.0125]\n",
      "The S_h is: [0.34657385 0.34657361 0.34657359 0.34657359]\n",
      "The error is: [2.61669822e-07 1.62954683e-08 1.01755565e-09 6.35830832e-11]\n",
      "The order is: 4.002272318407938\n"
     ]
    }
   ],
   "source": [
    "# definite integral\n",
    "fn = lambda x: x/(1+x**2)\n",
    "a = 0\n",
    "b = 1\n",
    "\n",
    "h = np.array([1/10,1/20,1/40,1/80])\n",
    "S_h = np.zeros(len(h))\n",
    "error = np.zeros(len(h))\n",
    "\n",
    "# the different h's approximation\n",
    "# and apply simpsons rule\n",
    "for i in range(len(h)):\n",
    "    S_h[i] = simps_rule(fn, a, b, h[i])\n",
    "    error[i] = abs(S_h[i]-np.log(2)/2)\n",
    "\n",
    "print('The h is:', h)\n",
    "print('The S_h is:', S_h)\n",
    "print('The error is:', error)\n",
    "\n",
    "# find and verify the 4th order\n",
    "order = np.mean(np.log(error[1:]/error[:-1])/np.log(h[1:]/h[:-1]))\n",
    "print('The order is:', order)"
   ]
  },
  {
   "cell_type": "markdown",
   "metadata": {},
   "source": [
    "\n",
    "The convergence is 4th order. $S_{h}$ has a trend of convergence since $|I[f]-S_{h}[f]|$ decreases as $h$ decreases."
   ]
  },
  {
   "cell_type": "markdown",
   "metadata": {},
   "source": [
    "The integral when integrated is:\n",
    "$$\n",
    "\\int^{1}_{0}\\sqrt{x}dx=\\frac{2}{3}\n",
    "$$"
   ]
  },
  {
   "cell_type": "code",
   "execution_count": 57,
   "metadata": {},
   "outputs": [
    {
     "name": "stdout",
     "output_type": "stream",
     "text": [
      "The h is: [0.0625     0.03125    0.015625   0.0078125  0.00390625]\n",
      "The Sh is: [0.66621818 0.6665081  0.66661061 0.66664685 0.66665966]\n",
      "The error is: [4.48483920e-04 1.58563588e-04 5.60607304e-05 1.98204636e-05\n",
      " 7.00759224e-06]\n",
      "The order is: 1.4999984053676017\n"
     ]
    }
   ],
   "source": [
    "# definite integral\n",
    "f = lambda x: np.sqrt(x)\n",
    "a = 0\n",
    "b = 1\n",
    "\n",
    "h = 1/2**np.arange(4,9)\n",
    "S_h = np.zeros(len(h))\n",
    "error = np.zeros(len(h))\n",
    "\n",
    "# the different h's approximation\n",
    "# and apply simpsons rule\n",
    "for i in range(len(h)):\n",
    "    S_h[i] = simps_rule(f, a, b, h[i])\n",
    "    error[i] = abs(S_h[i]-2/3)\n",
    "\n",
    "print('The h is:', h)\n",
    "print('The Sh is:', S_h)\n",
    "print('The error is:', error)\n",
    "\n",
    "# find and verify the 4th order\n",
    "order = np.mean(np.log(error[1:]/error[:-1])/np.log(h[1:]/h[:-1]))\n",
    "print('The order is:', order)"
   ]
  },
  {
   "cell_type": "markdown",
   "metadata": {},
   "source": [
    "Because $x$ is relatively close to $0$, the derivative is relatively close to infinity. Hence, you see the 4th\n",
    "order of convergence ( $\\frac{3}{2}$) to the exact value of integral."
   ]
  }
 ],
 "metadata": {
  "kernelspec": {
   "display_name": "Python 3",
   "language": "python",
   "name": "python3"
  },
  "language_info": {
   "codemirror_mode": {
    "name": "ipython",
    "version": 3
   },
   "file_extension": ".py",
   "mimetype": "text/x-python",
   "name": "python",
   "nbconvert_exporter": "python",
   "pygments_lexer": "ipython3",
   "version": "3.7.3"
  }
 },
 "nbformat": 4,
 "nbformat_minor": 4
}
